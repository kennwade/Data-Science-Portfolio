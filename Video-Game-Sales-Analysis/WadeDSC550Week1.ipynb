{
 "cells": [
  {
   "cell_type": "markdown",
   "id": "9bb924b9-4e60-4673-ad80-2a573f53472e",
   "metadata": {},
   "source": [
    "$$\n",
    "\\newcommand{\\upquote}[1]{\\textquotesingle #1\\textquotesingle}\n",
    "$$"
   ]
  },
  {
   "cell_type": "markdown",
   "id": "0f1084ee-c350-4ad8-bbd3-dc3ca55f4ea5",
   "metadata": {},
   "source": [
    "# 1.2 Exercise: Exploring a Pandas Data Frame: Video Game Sales Analysis\n",
    "## Kenn Wade\n",
    "## DSC 550: Data Mining\n",
    "## March 17th, 2024\n",
    "\n",
    "Introduction:\n",
    "\n",
    "In this assignment, I explored the Video Game Sales with Ratings dataset to gain insights into the video game industry. The dataset contained information about video game sales, including attributes such as platform, genre, critic scores, user scores, and global sales.\n",
    "\n",
    "The objective of this exercise was to utilize the Pandas library in Python to perform various data exploration tasks and answer specific questions provided in the assignment instructions.\n",
    "\n",
    "Below are the tasks I accomplished:\n",
    "\n",
    "1. Downloaded the Video Game Sales with Ratings dataset from the provided link.\n",
    "2. Loaded the dataset as a Pandas data frame.\n",
    "3. Displayed the first ten rows of data.\n",
    "4. Found the dimensions (number of rows and columns) in the data frame.\n",
    "5. Found the top five games by critic score.\n",
    "6. Found the number of video games in the data frame in each genre.\n",
    "7. Found the first five games in the data frame on the SNES platform.\n",
    "8. Found the five publishers with the highest total global sales.\n",
    "9. Created a new column in the data frame that calculated the percentage of global sales from North America.\n",
    "10. Displayed the first five rows of the new data frame.\n",
    "11. Found the number of NaN entries (missing data values) in each column.\n",
    "12. Tried to calculate the median user score of all the video games. Handled non-numeric entries by replacing them with NaN, calculated the median, and replaced NaN entries in the user score column with the median value.\n",
    "\n",
    "I documented each step of the analysis and provided explanations for the code and findings below:"
   ]
  },
  {
   "cell_type": "code",
   "execution_count": 1,
   "id": "09f9d1e3-cddd-43ad-93fa-132098d6923a",
   "metadata": {},
   "outputs": [
    {
     "name": "stdout",
     "output_type": "stream",
     "text": [
      "                        Name Platform  Year_of_Release         Genre  \\\n",
      "0                 Wii Sports      Wii           2006.0        Sports   \n",
      "1          Super Mario Bros.      NES           1985.0      Platform   \n",
      "2             Mario Kart Wii      Wii           2008.0        Racing   \n",
      "3          Wii Sports Resort      Wii           2009.0        Sports   \n",
      "4   Pokemon Red/Pokemon Blue       GB           1996.0  Role-Playing   \n",
      "5                     Tetris       GB           1989.0        Puzzle   \n",
      "6      New Super Mario Bros.       DS           2006.0      Platform   \n",
      "7                   Wii Play      Wii           2006.0          Misc   \n",
      "8  New Super Mario Bros. Wii      Wii           2009.0      Platform   \n",
      "9                  Duck Hunt      NES           1984.0       Shooter   \n",
      "\n",
      "  Publisher  NA_Sales  EU_Sales  JP_Sales  Other_Sales  Global_Sales  \\\n",
      "0  Nintendo     41.36     28.96      3.77         8.45         82.53   \n",
      "1  Nintendo     29.08      3.58      6.81         0.77         40.24   \n",
      "2  Nintendo     15.68     12.76      3.79         3.29         35.52   \n",
      "3  Nintendo     15.61     10.93      3.28         2.95         32.77   \n",
      "4  Nintendo     11.27      8.89     10.22         1.00         31.37   \n",
      "5  Nintendo     23.20      2.26      4.22         0.58         30.26   \n",
      "6  Nintendo     11.28      9.14      6.50         2.88         29.80   \n",
      "7  Nintendo     13.96      9.18      2.93         2.84         28.92   \n",
      "8  Nintendo     14.44      6.94      4.70         2.24         28.32   \n",
      "9  Nintendo     26.93      0.63      0.28         0.47         28.31   \n",
      "\n",
      "   Critic_Score  Critic_Count User_Score  User_Count Developer Rating  \n",
      "0          76.0          51.0          8       322.0  Nintendo      E  \n",
      "1           NaN           NaN        NaN         NaN       NaN    NaN  \n",
      "2          82.0          73.0        8.3       709.0  Nintendo      E  \n",
      "3          80.0          73.0          8       192.0  Nintendo      E  \n",
      "4           NaN           NaN        NaN         NaN       NaN    NaN  \n",
      "5           NaN           NaN        NaN         NaN       NaN    NaN  \n",
      "6          89.0          65.0        8.5       431.0  Nintendo      E  \n",
      "7          58.0          41.0        6.6       129.0  Nintendo      E  \n",
      "8          87.0          80.0        8.4       594.0  Nintendo      E  \n",
      "9           NaN           NaN        NaN         NaN       NaN    NaN  \n"
     ]
    }
   ],
   "source": [
    "import pandas as pd\n",
    "\n",
    "# Load the dataset\n",
    "df = pd.read_csv(\"/Users/kennwade/Downloads/Video_Games_Sales_as_at_22_Dec_2016.csv\")\n",
    "\n",
    "# Display the first ten rows of data\n",
    "print(df.head(10))"
   ]
  },
  {
   "cell_type": "code",
   "execution_count": 2,
   "id": "0f6eb9ad-8dd7-48f3-9399-a78eaca07923",
   "metadata": {},
   "outputs": [
    {
     "name": "stdout",
     "output_type": "stream",
     "text": [
      "Number of rows: 16719\n",
      "Number of columns: 16\n"
     ]
    }
   ],
   "source": [
    "# Find the dimensins\n",
    "num_rows, num_cols = df.shape\n",
    "print(\"Number of rows:\", num_rows)\n",
    "print(\"Number of columns:\", num_cols)"
   ]
  },
  {
   "cell_type": "code",
   "execution_count": 3,
   "id": "a7029fd2-1a67-4d01-8d1f-3e14a55e8a24",
   "metadata": {},
   "outputs": [
    {
     "name": "stdout",
     "output_type": "stream",
     "text": [
      "Top five games by critic score:\n",
      "                          Name Platform  Year_of_Release     Genre  \\\n",
      "51         Grand Theft Auto IV     X360           2008.0    Action   \n",
      "57         Grand Theft Auto IV      PS3           2008.0    Action   \n",
      "227   Tony Hawk's Pro Skater 2       PS           2000.0    Sports   \n",
      "5350               SoulCalibur       DC           1999.0  Fighting   \n",
      "16          Grand Theft Auto V      PS3           2013.0    Action   \n",
      "\n",
      "                 Publisher  NA_Sales  EU_Sales  JP_Sales  Other_Sales  \\\n",
      "51    Take-Two Interactive      6.76      3.07      0.14         1.03   \n",
      "57    Take-Two Interactive      4.76      3.69      0.44         1.61   \n",
      "227             Activision      3.05      1.41      0.02         0.20   \n",
      "5350    Namco Bandai Games      0.00      0.00      0.34         0.00   \n",
      "16    Take-Two Interactive      7.02      9.09      0.98         3.96   \n",
      "\n",
      "      Global_Sales  Critic_Score  Critic_Count User_Score  User_Count  \\\n",
      "51           11.01          98.0          86.0        7.9      2951.0   \n",
      "57           10.50          98.0          64.0        7.5      2833.0   \n",
      "227           4.68          98.0          19.0        7.7       299.0   \n",
      "5350          0.34          98.0          24.0        8.8       200.0   \n",
      "16           21.04          97.0          50.0        8.2      3994.0   \n",
      "\n",
      "                    Developer Rating  \n",
      "51             Rockstar North      M  \n",
      "57             Rockstar North      M  \n",
      "227   Neversoft Entertainment      T  \n",
      "5350                    Namco      T  \n",
      "16             Rockstar North      M  \n"
     ]
    }
   ],
   "source": [
    "# Sort the dataframe by critic score and get the top 5 games\n",
    "top_five_critic_score = df.nlargest(5, 'Critic_Score')\n",
    "print(\"Top five games by critic score:\")\n",
    "print(top_five_critic_score)"
   ]
  },
  {
   "cell_type": "code",
   "execution_count": 4,
   "id": "7aac59a7-9c79-4aff-a0e5-fe11a56c95cb",
   "metadata": {},
   "outputs": [
    {
     "name": "stdout",
     "output_type": "stream",
     "text": [
      "Number of video games in each genre:\n",
      "Genre\n",
      "Action          3370\n",
      "Sports          2348\n",
      "Misc            1750\n",
      "Role-Playing    1500\n",
      "Shooter         1323\n",
      "Adventure       1303\n",
      "Racing          1249\n",
      "Platform         888\n",
      "Simulation       874\n",
      "Fighting         849\n",
      "Strategy         683\n",
      "Puzzle           580\n",
      "Name: count, dtype: int64\n"
     ]
    }
   ],
   "source": [
    "# Count the number of games in each genre\n",
    "games_per_genre = df['Genre'].value_counts()\n",
    "print(\"Number of video games in each genre:\")\n",
    "print(games_per_genre)"
   ]
  },
  {
   "cell_type": "code",
   "execution_count": 5,
   "id": "52e3a434-ee7a-410a-a0d1-407f9e62c3eb",
   "metadata": {},
   "outputs": [
    {
     "name": "stdout",
     "output_type": "stream",
     "text": [
      "First five games on the SNES platform:\n",
      "                                     Name Platform  Year_of_Release     Genre  \\\n",
      "18                      Super Mario World     SNES           1990.0  Platform   \n",
      "56                  Super Mario All-Stars     SNES           1993.0  Platform   \n",
      "71                    Donkey Kong Country     SNES           1994.0  Platform   \n",
      "76                       Super Mario Kart     SNES           1992.0    Racing   \n",
      "137  Street Fighter II: The World Warrior     SNES           1992.0  Fighting   \n",
      "\n",
      "    Publisher  NA_Sales  EU_Sales  JP_Sales  Other_Sales  Global_Sales  \\\n",
      "18   Nintendo     12.78      3.75      3.54         0.55         20.61   \n",
      "56   Nintendo      5.99      2.15      2.12         0.29         10.55   \n",
      "71   Nintendo      4.36      1.71      3.00         0.23          9.30   \n",
      "76   Nintendo      3.54      1.24      3.81         0.18          8.76   \n",
      "137    Capcom      2.47      0.83      2.87         0.12          6.30   \n",
      "\n",
      "     Critic_Score  Critic_Count User_Score  User_Count Developer Rating  \n",
      "18            NaN           NaN        NaN         NaN       NaN    NaN  \n",
      "56            NaN           NaN        NaN         NaN       NaN    NaN  \n",
      "71            NaN           NaN        NaN         NaN       NaN    NaN  \n",
      "76            NaN           NaN        NaN         NaN       NaN    NaN  \n",
      "137           NaN           NaN        NaN         NaN       NaN    NaN  \n"
     ]
    }
   ],
   "source": [
    "# Filter the dataframe for SNES platform and get the first 5 games\n",
    "snes_games = df[df['Platform'] == 'SNES'].head(5)\n",
    "print(\"First five games on the SNES platform:\")\n",
    "print(snes_games)"
   ]
  },
  {
   "cell_type": "code",
   "execution_count": 6,
   "id": "9692c57b-2726-4122-a86f-560952effbb6",
   "metadata": {},
   "outputs": [
    {
     "name": "stdout",
     "output_type": "stream",
     "text": [
      "Top five publishers with highest total global sales:\n",
      "Publisher\n",
      "Nintendo                       1788.81\n",
      "Electronic Arts                1116.96\n",
      "Activision                      731.16\n",
      "Sony Computer Entertainment     606.48\n",
      "Ubisoft                         471.61\n",
      "Name: Global_Sales, dtype: float64\n"
     ]
    }
   ],
   "source": [
    "# Group by publisher and sum global sales, then get top 5 publishers\n",
    "top_publishers = df.groupby('Publisher')['Global_Sales'].sum().nlargest(5)\n",
    "print(\"Top five publishers with highest total global sales:\")\n",
    "print(top_publishers)"
   ]
  },
  {
   "cell_type": "code",
   "execution_count": 7,
   "id": "7564c0fd-0896-4c82-b5f9-0b895ddc4d25",
   "metadata": {},
   "outputs": [
    {
     "name": "stdout",
     "output_type": "stream",
     "text": [
      "First five rows with NA sales percentage:\n",
      "                       Name Platform  Year_of_Release         Genre Publisher  \\\n",
      "0                Wii Sports      Wii           2006.0        Sports  Nintendo   \n",
      "1         Super Mario Bros.      NES           1985.0      Platform  Nintendo   \n",
      "2            Mario Kart Wii      Wii           2008.0        Racing  Nintendo   \n",
      "3         Wii Sports Resort      Wii           2009.0        Sports  Nintendo   \n",
      "4  Pokemon Red/Pokemon Blue       GB           1996.0  Role-Playing  Nintendo   \n",
      "\n",
      "   NA_Sales  EU_Sales  JP_Sales  Other_Sales  Global_Sales  Critic_Score  \\\n",
      "0     41.36     28.96      3.77         8.45         82.53          76.0   \n",
      "1     29.08      3.58      6.81         0.77         40.24           NaN   \n",
      "2     15.68     12.76      3.79         3.29         35.52          82.0   \n",
      "3     15.61     10.93      3.28         2.95         32.77          80.0   \n",
      "4     11.27      8.89     10.22         1.00         31.37           NaN   \n",
      "\n",
      "   Critic_Count User_Score  User_Count Developer Rating  NA_Sales_Percentage  \n",
      "0          51.0          8       322.0  Nintendo      E            50.115110  \n",
      "1           NaN        NaN         NaN       NaN    NaN            72.266402  \n",
      "2          73.0        8.3       709.0  Nintendo      E            44.144144  \n",
      "3          73.0          8       192.0  Nintendo      E            47.635032  \n",
      "4           NaN        NaN         NaN       NaN    NaN            35.926044  \n"
     ]
    }
   ],
   "source": [
    "# Calculate percentage of global sales from North America\n",
    "df['NA_Sales_Percentage'] = (df['NA_Sales'] / df['Global_Sales']) * 100\n",
    "print(\"First five rows with NA sales percentage:\")\n",
    "print(df.head())"
   ]
  },
  {
   "cell_type": "code",
   "execution_count": 8,
   "id": "e33b3e1a-9ae7-4052-af38-178efea9bdc5",
   "metadata": {},
   "outputs": [
    {
     "name": "stdout",
     "output_type": "stream",
     "text": [
      "Number of NaN entries in each column:\n",
      "Name                      2\n",
      "Platform                  0\n",
      "Year_of_Release         269\n",
      "Genre                     2\n",
      "Publisher                54\n",
      "NA_Sales                  0\n",
      "EU_Sales                  0\n",
      "JP_Sales                  0\n",
      "Other_Sales               0\n",
      "Global_Sales              0\n",
      "Critic_Score           8582\n",
      "Critic_Count           8582\n",
      "User_Score             6704\n",
      "User_Count             9129\n",
      "Developer              6623\n",
      "Rating                 6769\n",
      "NA_Sales_Percentage       0\n",
      "dtype: int64\n"
     ]
    }
   ],
   "source": [
    "# Count NaN entries in each column\n",
    "nan_count = df.isnull().sum()\n",
    "print(\"Number of NaN entries in each column:\")\n",
    "print(nan_count)\n"
   ]
  },
  {
   "cell_type": "code",
   "execution_count": 9,
   "id": "3c6b02d9-76a2-4c73-832e-742661adc63a",
   "metadata": {},
   "outputs": [
    {
     "name": "stdout",
     "output_type": "stream",
     "text": [
      "Median user score: 7.5\n"
     ]
    }
   ],
   "source": [
    "# Replace non-numeric entries in user score with NaN\n",
    "df['User_Score'] = pd.to_numeric(df['User_Score'], errors='coerce')\n",
    "\n",
    "# Calculate median user score\n",
    "median_user_score = df['User_Score'].median()\n",
    "print(\"Median user score:\", median_user_score)\n",
    "\n",
    "# Replace NaN entries in user score with median value\n",
    "df['User_Score'].fillna(median_user_score, inplace=True)"
   ]
  }
 ],
 "metadata": {
  "kernelspec": {
   "display_name": "Python 3 (ipykernel)",
   "language": "python",
   "name": "python3"
  },
  "language_info": {
   "codemirror_mode": {
    "name": "ipython",
    "version": 3
   },
   "file_extension": ".py",
   "mimetype": "text/x-python",
   "name": "python",
   "nbconvert_exporter": "python",
   "pygments_lexer": "ipython3",
   "version": "3.11.5"
  }
 },
 "nbformat": 4,
 "nbformat_minor": 5
}
